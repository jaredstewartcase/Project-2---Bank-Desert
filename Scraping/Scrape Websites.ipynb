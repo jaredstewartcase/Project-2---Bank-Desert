{
 "cells": [
  {
   "cell_type": "code",
   "execution_count": 1,
   "metadata": {},
   "outputs": [],
   "source": [
    "# Dependencies\n",
    "import os\n",
    "from bs4 import BeautifulSoup as bs\n",
    "import requests\n",
    "from splinter import Browser\n",
    "from splinter.exceptions import ElementDoesNotExist\n",
    "import pandas as pd\n",
    "import csv\n",
    "import json\n",
    "import sys, getopt, pprint\n",
    "from pymongo import MongoClient"
   ]
  },
  {
   "cell_type": "code",
   "execution_count": 2,
   "metadata": {},
   "outputs": [
    {
     "name": "stderr",
     "output_type": "stream",
     "text": [
      "which: no chromedriver in (/c/Users/z002y0b/AppData/Local/Continuum/anaconda3/envs/PythonData/DLLs:/c/Users/z002y0b/AppData/Local/Continuum/anaconda3/envs/PythonData:/c/Users/z002y0b/AppData/Local/Continuum/anaconda3/envs/PythonData/Library/mingw-w64/bin:/c/Users/z002y0b/AppData/Local/Continuum/anaconda3/envs/PythonData/Library/usr/bin:/c/Users/z002y0b/AppData/Local/Continuum/anaconda3/envs/PythonData/Library/bin:/c/Users/z002y0b/AppData/Local/Continuum/anaconda3/envs/PythonData/Scripts:/c/Users/z002y0b/AppData/Local/Continuum/anaconda3/envs/PythonData/bin:/c/Users/z002y0b/bin:/mingw64/bin:/usr/local/bin:/usr/bin:/usr/bin:/mingw64/bin:/usr/bin:/c/Users/z002y0b/bin:/c/WINDOWS/system32:/c/WINDOWS:/c/WINDOWS/System32/Wbem:/c/WINDOWS/System32/WindowsPowerShell/v1.0:/c/Program Files/MySQL/MySQL Utilities 1.6:/c/Program Files/MongoDB/Server/4.0/bin:/c/Users/z002y0b/AppData/Local/Continuum/anaconda3:/c/Users/z002y0b/AppData/Local/Continuum/anaconda3/Library/mingw-w64/bin:/c/Users/z002y0b/AppData/Local/Continuum/anaconda3/Library/usr/bin:/c/Users/z002y0b/AppData/Local/Continuum/anaconda3/Library/bin:/c/Users/z002y0b/AppData/Local/Continuum/anaconda3/Scripts:/c/Users/z002y0b/AppData/Local/Microsoft/WindowsApps:/cmd:/usr/bin/vendor_perl:/usr/bin/core_perl)\n"
     ]
    }
   ],
   "source": [
    "# URL of page to be scraped\n",
    "url = 'http://maps.latimes.com/neighborhoods/income/median/neighborhood/list/'\n",
    " # https://splinter.readthedocs.io/en/latest/drivers/chrome.html\n",
    "get_ipython().system('which chromedriver')\n",
    "executable_path = {'executable_path': 'chromedriver'}\n",
    "browser = Browser('chrome', **executable_path, headless=False)"
   ]
  },
  {
   "cell_type": "code",
   "execution_count": 3,
   "metadata": {},
   "outputs": [],
   "source": [
    "# Retrieve page with the requests module\n",
    "browser.visit(url)  \n",
    "html = browser.html"
   ]
  },
  {
   "cell_type": "code",
   "execution_count": 4,
   "metadata": {},
   "outputs": [],
   "source": [
    "# Create BeautifulSoup object; parse with 'html.parser'\n",
    "soup = bs(html, 'html.parser')"
   ]
  },
  {
   "cell_type": "code",
   "execution_count": 5,
   "metadata": {},
   "outputs": [],
   "source": [
    "# Print all ten headlines\n",
    "tds = soup.find_all('td')\n",
    "# A blank list to hold the headlines\n",
    "headlines = []\n",
    "# Loop over td elements\n",
    "for td in tds:\n",
    "   # If td element has an anchor...\n",
    "   if (td.a):\n",
    "       #print(td.a)\n",
    "       # And the anchor has non-blank text...\n",
    "       if (td.a.text):\n",
    "           # Append the td to the list\n",
    "           headlines.append(td)"
   ]
  },
  {
   "cell_type": "code",
   "execution_count": 6,
   "metadata": {},
   "outputs": [],
   "source": [
    "# Print only the headlines\n",
    "neighborhoods = []\n",
    "for x in range(len(headlines)):\n",
    "   #print(headlines[x].text)\n",
    "   neighborhoods.append(headlines[x].text)"
   ]
  },
  {
   "cell_type": "code",
   "execution_count": 7,
   "metadata": {},
   "outputs": [],
   "source": [
    "neighborhoods\n",
    "names = []\n",
    "for neighbor in neighborhoods:\n",
    "    name =neighbor.replace(\"\\n\", \"\")\n",
    "    \n",
    "    names.append(name)"
   ]
  },
  {
   "cell_type": "code",
   "execution_count": 8,
   "metadata": {},
   "outputs": [],
   "source": [
    "# Print all ten headlines\n",
    "trs = soup.find_all('tr')\n",
    "# A blank list to hold the headlines\n",
    "headlines1 = []\n",
    "# Loop over td elements\n",
    "for tr in trs:\n",
    "   # If td element has an anchor...\n",
    "   if (tr.td):\n",
    "       #print(tr.td)\n",
    "    # And the anchor has non-blank text...\n",
    "       if (tr.td.text):\n",
    "           # Append the td to the list\n",
    "           headlines1.append(tr.td.text)"
   ]
  },
  {
   "cell_type": "code",
   "execution_count": 9,
   "metadata": {},
   "outputs": [],
   "source": [
    "rows = soup.find(class_=\"datagrid\").find(\"tbody\").find_all(\"tr\")\n",
    "c = 0\n",
    "d = 1\n",
    "median_income = []\n",
    "rank = []\n",
    "for row in rows:\n",
    "    \n",
    "    med_inc = rows[c].find_all(\"td\")[2].get_text()\n",
    "    #print(rows[c].find_all(\"td\")[2].get_text())\n",
    "    med_inc = rows[c].find_all(\"td\")[2].get_text()\n",
    "    median_income.append(med_inc)\n",
    "    rank.append(d)\n",
    "    c += 1\n",
    "    d += 1"
   ]
  },
  {
   "cell_type": "code",
   "execution_count": 10,
   "metadata": {},
   "outputs": [],
   "source": [
    "# make the dictionary containing the titles and the image url\n",
    "La_times = [\n",
    "    {\"Median Rank\":rank},\n",
    "    {\"Neighborhood\":names},\n",
    "    {\"Median Income\":median_income}]"
   ]
  },
  {
   "cell_type": "code",
   "execution_count": 11,
   "metadata": {},
   "outputs": [],
   "source": [
    "rank_df = pd.DataFrame(rank)    \n",
    "rank_df.head()\n",
    "median_income_df = pd.DataFrame(median_income)\n",
    "median_income_df.head()\n",
    "name_df = pd.DataFrame(names)"
   ]
  },
  {
   "cell_type": "code",
   "execution_count": 12,
   "metadata": {},
   "outputs": [],
   "source": [
    "#combine data frames to get data all in one place\n",
    "LA_Times = pd.DataFrame({'Median Rank' : rank,\n",
    " 'LA Neighborhood' : names,\n",
    " 'Median Income':median_income\n",
    "  }, columns=['Median Rank','LA Neighborhood', 'Median Income'])"
   ]
  },
  {
   "cell_type": "code",
   "execution_count": 13,
   "metadata": {},
   "outputs": [
    {
     "name": "stderr",
     "output_type": "stream",
     "text": [
      "which: no chromedriver in (/c/Users/z002y0b/AppData/Local/Continuum/anaconda3/envs/PythonData/DLLs:/c/Users/z002y0b/AppData/Local/Continuum/anaconda3/envs/PythonData:/c/Users/z002y0b/AppData/Local/Continuum/anaconda3/envs/PythonData/Library/mingw-w64/bin:/c/Users/z002y0b/AppData/Local/Continuum/anaconda3/envs/PythonData/Library/usr/bin:/c/Users/z002y0b/AppData/Local/Continuum/anaconda3/envs/PythonData/Library/bin:/c/Users/z002y0b/AppData/Local/Continuum/anaconda3/envs/PythonData/Scripts:/c/Users/z002y0b/AppData/Local/Continuum/anaconda3/envs/PythonData/bin:/c/Users/z002y0b/bin:/mingw64/bin:/usr/local/bin:/usr/bin:/usr/bin:/mingw64/bin:/usr/bin:/c/Users/z002y0b/bin:/c/WINDOWS/system32:/c/WINDOWS:/c/WINDOWS/System32/Wbem:/c/WINDOWS/System32/WindowsPowerShell/v1.0:/c/Program Files/MySQL/MySQL Utilities 1.6:/c/Program Files/MongoDB/Server/4.0/bin:/c/Users/z002y0b/AppData/Local/Continuum/anaconda3:/c/Users/z002y0b/AppData/Local/Continuum/anaconda3/Library/mingw-w64/bin:/c/Users/z002y0b/AppData/Local/Continuum/anaconda3/Library/usr/bin:/c/Users/z002y0b/AppData/Local/Continuum/anaconda3/Library/bin:/c/Users/z002y0b/AppData/Local/Continuum/anaconda3/Scripts:/c/Users/z002y0b/AppData/Local/Microsoft/WindowsApps:/cmd:/usr/bin/vendor_perl:/usr/bin/core_perl)\n"
     ]
    }
   ],
   "source": [
    "url = 'http://maps.latimes.com/neighborhoods/diversity/neighborhood/list/'\n",
    " # https://splinter.readthedocs.io/en/latest/drivers/chrome.html\n",
    "get_ipython().system('which chromedriver')\n",
    "executable_path = {'executable_path': 'chromedriver'}\n",
    "browser = Browser('chrome', **executable_path, headless=False)"
   ]
  },
  {
   "cell_type": "code",
   "execution_count": 14,
   "metadata": {},
   "outputs": [],
   "source": [
    "# Retrieve page with the requests module\n",
    "browser.visit(url)  \n",
    "html = browser.html"
   ]
  },
  {
   "cell_type": "code",
   "execution_count": 15,
   "metadata": {},
   "outputs": [],
   "source": [
    "# Create BeautifulSoup object; parse with 'html.parser'\n",
    "soup = bs(html, 'html.parser')"
   ]
  },
  {
   "cell_type": "code",
   "execution_count": 16,
   "metadata": {},
   "outputs": [],
   "source": [
    "# Print all ten headlines\n",
    "tds1 = soup.find_all('td')\n",
    "# A blank list to hold the headlines\n",
    "headlines1 = []\n",
    "# Loop over td elements\n",
    "for td in tds1:\n",
    "   # If td element has an anchor...\n",
    "   if (td.a):\n",
    "#       print(td.a)\n",
    "       # And the anchor has non-blank text...\n",
    "       if (td.a.text):\n",
    "           # Append the td to the list\n",
    "           headlines1.append(td)"
   ]
  },
  {
   "cell_type": "code",
   "execution_count": 17,
   "metadata": {},
   "outputs": [],
   "source": [
    "# Print only the headlines\n",
    "neighborhoods1 = []\n",
    "for x in range(len(headlines1)):\n",
    "#   print(headlines1[x].text)\n",
    "   neighborhoods1.append(headlines1[x].text)"
   ]
  },
  {
   "cell_type": "code",
   "execution_count": 18,
   "metadata": {},
   "outputs": [],
   "source": [
    "neighborhoods1\n",
    "names1 = []\n",
    "for neighbor in neighborhoods1:\n",
    "    name =neighbor.replace(\"\\n\", \"\")\n",
    "    \n",
    "    names1.append(name)"
   ]
  },
  {
   "cell_type": "code",
   "execution_count": 19,
   "metadata": {},
   "outputs": [],
   "source": [
    "# Print all ten headlines\n",
    "trs1 = soup.find_all('tr')\n",
    "# A blank list to hold the headlines\n",
    "headlines1 = []\n",
    "# Loop over td elements\n",
    "for tr in trs1:\n",
    "   # If td element has an anchor...\n",
    "   if (tr.td):\n",
    "#       print(tr.td)\n",
    "    # And the anchor has non-blank text...\n",
    "       if (tr.td.text):\n",
    "           # Append the td to the list\n",
    "           headlines1.append(tr.td.text)"
   ]
  },
  {
   "cell_type": "code",
   "execution_count": 20,
   "metadata": {},
   "outputs": [],
   "source": [
    "rows1 = soup.find(class_=\"datagrid\").find(\"tbody\").find_all(\"tr\")\n",
    "c = 0\n",
    "d = 1\n",
    "diversity_index = []\n",
    "rank1 = []\n",
    "for row in rows:\n",
    "    diversity_div = rows1[c].find_all(\"td\")[2].get_text()\n",
    "    diversity_index.append(diversity_div)\n",
    "    rank1.append(d)\n",
    "    c += 1\n",
    "    d += 1"
   ]
  },
  {
   "cell_type": "code",
   "execution_count": 21,
   "metadata": {},
   "outputs": [],
   "source": [
    "LA_Times_diversity = pd.DataFrame({'Diversity Rank' : rank1,\n",
    " 'LA Neighborhood' : names1,\n",
    " 'Diversity Index':diversity_index\n",
    "  }, columns=['Diversity Rank','LA Neighborhood', 'Diversity Index'])"
   ]
  },
  {
   "cell_type": "code",
   "execution_count": 22,
   "metadata": {},
   "outputs": [],
   "source": [
    "final_location_table = pd.merge(LA_Times, LA_Times_diversity, on=\"LA Neighborhood\", how=\"left\")"
   ]
  },
  {
   "cell_type": "code",
   "execution_count": 23,
   "metadata": {},
   "outputs": [
    {
     "data": {
      "text/html": [
       "<div>\n",
       "<style scoped>\n",
       "    .dataframe tbody tr th:only-of-type {\n",
       "        vertical-align: middle;\n",
       "    }\n",
       "\n",
       "    .dataframe tbody tr th {\n",
       "        vertical-align: top;\n",
       "    }\n",
       "\n",
       "    .dataframe thead th {\n",
       "        text-align: right;\n",
       "    }\n",
       "</style>\n",
       "<table border=\"1\" class=\"dataframe\">\n",
       "  <thead>\n",
       "    <tr style=\"text-align: right;\">\n",
       "      <th></th>\n",
       "      <th>Median Rank</th>\n",
       "      <th>Median Income</th>\n",
       "      <th>Diversity Rank</th>\n",
       "      <th>Diversity Index</th>\n",
       "    </tr>\n",
       "    <tr>\n",
       "      <th>LA Neighborhood</th>\n",
       "      <th></th>\n",
       "      <th></th>\n",
       "      <th></th>\n",
       "      <th></th>\n",
       "    </tr>\n",
       "  </thead>\n",
       "  <tbody>\n",
       "    <tr>\n",
       "      <th>Bel-Air</th>\n",
       "      <td>1</td>\n",
       "      <td>$207,938</td>\n",
       "      <td>228</td>\n",
       "      <td>0.301</td>\n",
       "    </tr>\n",
       "    <tr>\n",
       "      <th>Hidden Hills</th>\n",
       "      <td>2</td>\n",
       "      <td>$203,199</td>\n",
       "      <td>251</td>\n",
       "      <td>0.207</td>\n",
       "    </tr>\n",
       "    <tr>\n",
       "      <th>Rolling Hills</th>\n",
       "      <td>3</td>\n",
       "      <td>$184,777</td>\n",
       "      <td>193</td>\n",
       "      <td>0.396</td>\n",
       "    </tr>\n",
       "    <tr>\n",
       "      <th>Beverly Crest</th>\n",
       "      <td>4</td>\n",
       "      <td>$169,282</td>\n",
       "      <td>245</td>\n",
       "      <td>0.230</td>\n",
       "    </tr>\n",
       "    <tr>\n",
       "      <th>Pacific Palisades</th>\n",
       "      <td>5</td>\n",
       "      <td>$168,008</td>\n",
       "      <td>250</td>\n",
       "      <td>0.210</td>\n",
       "    </tr>\n",
       "  </tbody>\n",
       "</table>\n",
       "</div>"
      ],
      "text/plain": [
       "                   Median Rank Median Income  Diversity Rank Diversity Index\n",
       "LA Neighborhood                                                             \n",
       "Bel-Air                      1      $207,938             228           0.301\n",
       "Hidden Hills                 2      $203,199             251           0.207\n",
       "Rolling Hills                3      $184,777             193           0.396\n",
       "Beverly Crest                4      $169,282             245           0.230\n",
       "Pacific Palisades            5      $168,008             250           0.210"
      ]
     },
     "execution_count": 23,
     "metadata": {},
     "output_type": "execute_result"
    }
   ],
   "source": [
    "final_location_table = final_location_table.set_index(\"LA Neighborhood\")\n",
    "final_location_table.head()"
   ]
  },
  {
   "cell_type": "code",
   "execution_count": 24,
   "metadata": {},
   "outputs": [],
   "source": [
    "final_location_table.to_csv(path_or_buf=\"LA_Locations.csv\", sep=',')"
   ]
  },
  {
   "cell_type": "code",
   "execution_count": 26,
   "metadata": {},
   "outputs": [
    {
     "name": "stderr",
     "output_type": "stream",
     "text": [
      "C:\\Users\\z002y0b\\AppData\\Local\\Continuum\\anaconda3\\envs\\PythonData\\lib\\site-packages\\ipykernel_launcher.py:14: DeprecationWarning: insert is deprecated. Use insert_one or insert_many instead.\n",
      "  \n"
     ]
    }
   ],
   "source": [
    "#CSV to JSON Conversion\n",
    "csvfile = open('LA_Locations.csv', 'r')\n",
    "reader = csv.DictReader( csvfile )\n",
    "mongo_client=MongoClient() \n",
    "db=mongo_client.BankData\n",
    "db.neighborhoodData.drop()\n",
    "header= [ \"LA Neighborhood\", \"Median Rank\", \"Median Income\", \"Diversity Rank\", \"Diversity Index\"]\n",
    "\n",
    "for each in reader:\n",
    "    row={}\n",
    "    for field in header:\n",
    "        row[field]=each[field]\n",
    "\n",
    "    db.neighborhoodData.insert(row)"
   ]
  },
  {
   "cell_type": "code",
   "execution_count": null,
   "metadata": {},
   "outputs": [],
   "source": []
  }
 ],
 "metadata": {
  "kernelspec": {
   "display_name": "Python 3",
   "language": "python",
   "name": "python3"
  },
  "language_info": {
   "codemirror_mode": {
    "name": "ipython",
    "version": 3
   },
   "file_extension": ".py",
   "mimetype": "text/x-python",
   "name": "python",
   "nbconvert_exporter": "python",
   "pygments_lexer": "ipython3",
   "version": "3.6.5"
  }
 },
 "nbformat": 4,
 "nbformat_minor": 2
}
