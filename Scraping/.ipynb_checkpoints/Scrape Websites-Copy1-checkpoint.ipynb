{
 "cells": [
  {
   "cell_type": "code",
   "execution_count": 1,
   "metadata": {},
   "outputs": [],
   "source": [
    "# Dependencies\n",
    "import os\n",
    "from bs4 import BeautifulSoup as bs\n",
    "import requests\n",
    "from splinter import Browser\n",
    "from splinter.exceptions import ElementDoesNotExist\n",
    "import pandas as pd\n",
    "import csv\n",
    "import json\n",
    "import sys, getopt, pprint\n",
    "from pymongo import MongoClient"
   ]
  },
  {
   "cell_type": "code",
   "execution_count": 2,
   "metadata": {},
   "outputs": [
    {
     "name": "stderr",
     "output_type": "stream",
     "text": [
      "which: no chromedriver in (/c/Users/Tom.LAPTOP-UESBC4IO/Anaconda3/envs/PythonData:/c/Users/Tom.LAPTOP-UESBC4IO/Anaconda3/envs/PythonData/Library/mingw-w64/bin:/c/Users/Tom.LAPTOP-UESBC4IO/Anaconda3/envs/PythonData/Library/usr/bin:/c/Users/Tom.LAPTOP-UESBC4IO/Anaconda3/envs/PythonData/Library/bin:/c/Users/Tom.LAPTOP-UESBC4IO/Anaconda3/envs/PythonData/Scripts:/c/Users/Tom.LAPTOP-UESBC4IO/Anaconda3/envs/PythonData/bin:/c/Users/Tom.LAPTOP-UESBC4IO/bin:/mingw64/bin:/usr/local/bin:/usr/bin:/usr/bin:/mingw64/bin:/usr/bin:/c/Users/Tom.LAPTOP-UESBC4IO/bin:/c/Windows/system32:/c/Windows:/c/Windows/System32/Wbem:/c/Windows/System32/WindowsPowerShell/v1.0:/c/Windows/System32/OpenSSH:/c/Program Files/Intel/WiFi/bin:/c/Program Files/Common Files/Intel/WirelessCommon:/cmd:/c/Program Files/MySQL/MySQL Utilities 1.6:/c/Program Files (x86)/Intel/Intel(R) Management Engine Components/DAL:/c/Program Files/Intel/Intel(R) Management Engine Components/DAL:/c/Users/Tom.LAPTOP-UESBC4IO/Anaconda3:/c/Users/Tom.LAPTOP-UESBC4IO/Anaconda3/Library/mingw-w64/bin:/c/Users/Tom.LAPTOP-UESBC4IO/Anaconda3/Library/usr/bin:/c/Users/Tom.LAPTOP-UESBC4IO/Anaconda3/Library/bin:/c/Users/Tom.LAPTOP-UESBC4IO/Anaconda3/Scripts:/c/Users/Tom.LAPTOP-UESBC4IO/AppData/Local/Microsoft/WindowsApps:/c/Program Files/heroku/bin:/c/Program Files/MongoDB/Server/4.0/bin:/c/Users/Tom.LAPTOP-UESBC4IO/AppData/Local/Programs/Microsoft VS Code/bin:/usr/bin/vendor_perl:/usr/bin/core_perl)\n"
     ]
    }
   ],
   "source": [
    "# URL of page to be scraped\n",
    "url = 'http://maps.latimes.com/neighborhoods/income/median/neighborhood/list/'\n",
    " # https://splinter.readthedocs.io/en/latest/drivers/chrome.html\n",
    "get_ipython().system('which chromedriver')\n",
    "executable_path = {'executable_path': 'chromedriver'}\n",
    "browser = Browser('chrome', **executable_path, headless=False)"
   ]
  },
  {
   "cell_type": "code",
   "execution_count": 3,
   "metadata": {},
   "outputs": [],
   "source": [
    "# Retrieve page with the requests module\n",
    "browser.visit(url)  \n",
    "html = browser.html"
   ]
  },
  {
   "cell_type": "code",
   "execution_count": 4,
   "metadata": {},
   "outputs": [],
   "source": [
    "# Create BeautifulSoup object; parse with 'html.parser'\n",
    "soup = bs(html, 'html.parser')"
   ]
  },
  {
   "cell_type": "code",
   "execution_count": 5,
   "metadata": {},
   "outputs": [],
   "source": [
    "# Print all ten headlines\n",
    "tds = soup.find_all('td')\n",
    "# A blank list to hold the headlines\n",
    "headlines = []\n",
    "# Loop over td elements\n",
    "for td in tds:\n",
    "   # If td element has an anchor...\n",
    "   if (td.a):\n",
    "#        print(td.a)\n",
    "       # And the anchor has non-blank text...\n",
    "       if (td.a.text):\n",
    "           # Append the td to the list\n",
    "           headlines.append(td)"
   ]
  },
  {
   "cell_type": "code",
   "execution_count": 6,
   "metadata": {},
   "outputs": [],
   "source": [
    "# Print only the headlines\n",
    "neighborhoods = []\n",
    "for x in range(len(headlines)):\n",
    "#    print(headlines[x].text)\n",
    "   neighborhoods.append(headlines[x].text)"
   ]
  },
  {
   "cell_type": "code",
   "execution_count": 7,
   "metadata": {},
   "outputs": [],
   "source": [
    "neighborhoods\n",
    "names = []\n",
    "for neighbor in neighborhoods:\n",
    "    name =neighbor.replace(\"\\n\", \"\")\n",
    "    names.append(name)"
   ]
  },
  {
   "cell_type": "code",
   "execution_count": 8,
   "metadata": {},
   "outputs": [],
   "source": [
    "# Print all ten headlines\n",
    "trs = soup.find_all('tr')\n",
    "# A blank list to hold the headlines\n",
    "headlines1 = []\n",
    "# Loop over td elements\n",
    "for tr in trs:\n",
    "   # If td element has an anchor...\n",
    "   if (tr.td):\n",
    "       #print(tr.td)\n",
    "    # And the anchor has non-blank text...\n",
    "       if (tr.td.text):\n",
    "           # Append the td to the list\n",
    "           headlines1.append(tr.td.text)"
   ]
  },
  {
   "cell_type": "code",
   "execution_count": 9,
   "metadata": {},
   "outputs": [],
   "source": [
    "rows = soup.find(class_=\"datagrid\").find(\"tbody\").find_all(\"tr\")\n",
    "c = 0\n",
    "d = 1\n",
    "median_income = []\n",
    "rank = []\n",
    "for row in rows:\n",
    "    \n",
    "    med_inc = rows[c].find_all(\"td\")[2].get_text()\n",
    "#     print(rows[c].find_all(\"td\")[2].get_text())\n",
    "    med_inc = rows[c].find_all(\"td\")[2].get_text()\n",
    "    median_income.append(med_inc)\n",
    "    rank.append(d)\n",
    "    c += 1\n",
    "    d += 1"
   ]
  },
  {
   "cell_type": "code",
   "execution_count": 10,
   "metadata": {},
   "outputs": [],
   "source": [
    "# make the dictionary containing the titles and the image url\n",
    "La_times = [\n",
    "    {\"Median Rank\":rank},\n",
    "    {\"Neighborhood\":names},\n",
    "    {\"Median Income\":median_income}]"
   ]
  },
  {
   "cell_type": "code",
   "execution_count": 11,
   "metadata": {},
   "outputs": [],
   "source": [
    "rank_df = pd.DataFrame(rank)    \n",
    "rank_df.head()\n",
    "median_income_df = pd.DataFrame(median_income)\n",
    "median_income_df.head()\n",
    "name_df = pd.DataFrame(names)\n"
   ]
  },
  {
   "cell_type": "code",
   "execution_count": 12,
   "metadata": {},
   "outputs": [],
   "source": [
    "#combine data frames to get data all in one place\n",
    "LA_Times = pd.DataFrame({'Median Rank' : rank,\n",
    " 'LA Neighborhood' : names,\n",
    " 'Median Income':median_income\n",
    "  }, columns=['Median Rank','LA Neighborhood', 'Median Income'])"
   ]
  },
  {
   "cell_type": "code",
   "execution_count": 13,
   "metadata": {},
   "outputs": [
    {
     "name": "stderr",
     "output_type": "stream",
     "text": [
      "which: no chromedriver in (/c/Users/Tom.LAPTOP-UESBC4IO/Anaconda3/envs/PythonData:/c/Users/Tom.LAPTOP-UESBC4IO/Anaconda3/envs/PythonData/Library/mingw-w64/bin:/c/Users/Tom.LAPTOP-UESBC4IO/Anaconda3/envs/PythonData/Library/usr/bin:/c/Users/Tom.LAPTOP-UESBC4IO/Anaconda3/envs/PythonData/Library/bin:/c/Users/Tom.LAPTOP-UESBC4IO/Anaconda3/envs/PythonData/Scripts:/c/Users/Tom.LAPTOP-UESBC4IO/Anaconda3/envs/PythonData/bin:/c/Users/Tom.LAPTOP-UESBC4IO/bin:/mingw64/bin:/usr/local/bin:/usr/bin:/usr/bin:/mingw64/bin:/usr/bin:/c/Users/Tom.LAPTOP-UESBC4IO/bin:/c/Windows/system32:/c/Windows:/c/Windows/System32/Wbem:/c/Windows/System32/WindowsPowerShell/v1.0:/c/Windows/System32/OpenSSH:/c/Program Files/Intel/WiFi/bin:/c/Program Files/Common Files/Intel/WirelessCommon:/cmd:/c/Program Files/MySQL/MySQL Utilities 1.6:/c/Program Files (x86)/Intel/Intel(R) Management Engine Components/DAL:/c/Program Files/Intel/Intel(R) Management Engine Components/DAL:/c/Users/Tom.LAPTOP-UESBC4IO/Anaconda3:/c/Users/Tom.LAPTOP-UESBC4IO/Anaconda3/Library/mingw-w64/bin:/c/Users/Tom.LAPTOP-UESBC4IO/Anaconda3/Library/usr/bin:/c/Users/Tom.LAPTOP-UESBC4IO/Anaconda3/Library/bin:/c/Users/Tom.LAPTOP-UESBC4IO/Anaconda3/Scripts:/c/Users/Tom.LAPTOP-UESBC4IO/AppData/Local/Microsoft/WindowsApps:/c/Program Files/heroku/bin:/c/Program Files/MongoDB/Server/4.0/bin:/c/Users/Tom.LAPTOP-UESBC4IO/AppData/Local/Programs/Microsoft VS Code/bin:/usr/bin/vendor_perl:/usr/bin/core_perl)\n"
     ]
    }
   ],
   "source": [
    "#scrape diversity index stats \n",
    "\n",
    "url = 'http://maps.latimes.com/neighborhoods/diversity/neighborhood/list/'\n",
    " # https://splinter.readthedocs.io/en/latest/drivers/chrome.html\n",
    "get_ipython().system('which chromedriver')\n",
    "executable_path = {'executable_path': 'chromedriver'}\n",
    "browser = Browser('chrome', **executable_path, headless=False)"
   ]
  },
  {
   "cell_type": "code",
   "execution_count": 14,
   "metadata": {},
   "outputs": [],
   "source": [
    "# Retrieve page with the requests module\n",
    "browser.visit(url)  \n",
    "html = browser.html"
   ]
  },
  {
   "cell_type": "code",
   "execution_count": 15,
   "metadata": {},
   "outputs": [],
   "source": [
    "# Create BeautifulSoup object; parse with 'html.parser'\n",
    "soup = bs(html, 'html.parser')"
   ]
  },
  {
   "cell_type": "code",
   "execution_count": 16,
   "metadata": {},
   "outputs": [],
   "source": [
    "# Print all ten headlines\n",
    "tds1 = soup.find_all('td')\n",
    "# A blank list to hold the headlines\n",
    "headlines1 = []\n",
    "# Loop over td elements\n",
    "for td in tds1:\n",
    "   # If td element has an anchor...\n",
    "   if (td.a):\n",
    "#       print(td.a)\n",
    "       # And the anchor has non-blank text...\n",
    "       if (td.a.text):\n",
    "           # Append the td to the list\n",
    "           headlines1.append(td)"
   ]
  },
  {
   "cell_type": "code",
   "execution_count": 17,
   "metadata": {},
   "outputs": [],
   "source": [
    "# Print only the headlines\n",
    "neighborhoods1 = []\n",
    "for x in range(len(headlines1)):\n",
    "#   print(headlines1[x].text)\n",
    "   neighborhoods1.append(headlines1[x].text)"
   ]
  },
  {
   "cell_type": "code",
   "execution_count": 18,
   "metadata": {},
   "outputs": [],
   "source": [
    "neighborhoods1\n",
    "names1 = []\n",
    "for neighbor in neighborhoods1:\n",
    "    name =neighbor.replace(\"\\n\", \"\")\n",
    "    \n",
    "    names1.append(name)"
   ]
  },
  {
   "cell_type": "code",
   "execution_count": 19,
   "metadata": {},
   "outputs": [],
   "source": [
    "# Print all ten headlines\n",
    "trs1 = soup.find_all('tr')\n",
    "# A blank list to hold the headlines\n",
    "headlines1 = []\n",
    "# Loop over td elements\n",
    "for tr in trs1:\n",
    "   # If td element has an anchor...\n",
    "   if (tr.td):\n",
    "#       print(tr.td)\n",
    "    # And the anchor has non-blank text...\n",
    "       if (tr.td.text):\n",
    "           # Append the td to the list\n",
    "           headlines1.append(tr.td.text)"
   ]
  },
  {
   "cell_type": "code",
   "execution_count": 20,
   "metadata": {},
   "outputs": [
    {
     "ename": "NameError",
     "evalue": "name 'neighborhoods2' is not defined",
     "output_type": "error",
     "traceback": [
      "\u001b[1;31m---------------------------------------------------------------------------\u001b[0m",
      "\u001b[1;31mNameError\u001b[0m                                 Traceback (most recent call last)",
      "\u001b[1;32m<ipython-input-20-56fe6c77e54a>\u001b[0m in \u001b[0;36m<module>\u001b[1;34m()\u001b[0m\n\u001b[0;32m      3\u001b[0m \u001b[1;32mfor\u001b[0m \u001b[0mx\u001b[0m \u001b[1;32min\u001b[0m \u001b[0mrange\u001b[0m\u001b[1;33m(\u001b[0m\u001b[0mlen\u001b[0m\u001b[1;33m(\u001b[0m\u001b[0mheadlines1\u001b[0m\u001b[1;33m)\u001b[0m\u001b[1;33m)\u001b[0m\u001b[1;33m:\u001b[0m\u001b[1;33m\u001b[0m\u001b[0m\n\u001b[0;32m      4\u001b[0m \u001b[1;31m#   print(headlines1[x].text)\u001b[0m\u001b[1;33m\u001b[0m\u001b[1;33m\u001b[0m\u001b[0m\n\u001b[1;32m----> 5\u001b[1;33m    \u001b[0mneighborhoods2\u001b[0m\u001b[1;33m.\u001b[0m\u001b[0mappend\u001b[0m\u001b[1;33m(\u001b[0m\u001b[0mheadlines1\u001b[0m\u001b[1;33m[\u001b[0m\u001b[0mx\u001b[0m\u001b[1;33m]\u001b[0m\u001b[1;33m.\u001b[0m\u001b[0mtext\u001b[0m\u001b[1;33m)\u001b[0m\u001b[1;33m\u001b[0m\u001b[0m\n\u001b[0m",
      "\u001b[1;31mNameError\u001b[0m: name 'neighborhoods2' is not defined"
     ]
    }
   ],
   "source": [
    "# Print only the headlines\n",
    "neighborhoods1 = []\n",
    "for x in range(len(headlines1)):\n",
    "#   print(headlines1[x].text)\n",
    "   neighborhoods1.append(headlines1[x].text)"
   ]
  },
  {
   "cell_type": "code",
   "execution_count": null,
   "metadata": {},
   "outputs": [],
   "source": [
    "rows1 = soup.find(class_=\"datagrid\").find(\"tbody\").find_all(\"tr\")\n",
    "c = 0\n",
    "d = 1\n",
    "diversity_index = []\n",
    "rank1 = []\n",
    "for row in rows:\n",
    "    diversity_div = rows1[c].find_all(\"td\")[2].get_text()\n",
    "    diversity_index.append(diversity_div)\n",
    "    rank1.append(d)\n",
    "    c += 1\n",
    "    d += 1"
   ]
  },
  {
   "cell_type": "code",
   "execution_count": null,
   "metadata": {},
   "outputs": [],
   "source": [
    "LA_Times_diversity = pd.DataFrame({'Diversity Rank' : rank1,\n",
    " 'LA Neighborhood' : names1,\n",
    " 'Diversity Index':diversity_index\n",
    "  }, columns=['Diversity Rank','LA Neighborhood', 'Diversity Index'])\n",
    "LA_Times_diversity.head()"
   ]
  },
  {
   "cell_type": "code",
   "execution_count": null,
   "metadata": {},
   "outputs": [],
   "source": [
    "#scrape population density stats \n",
    "\n",
    "url = 'http://maps.latimes.com/neighborhoods/population/density/neighborhood/list/'\n",
    " # https://splinter.readthedocs.io/en/latest/drivers/chrome.html\n",
    "get_ipython().system('which chromedriver')\n",
    "executable_path = {'executable_path': 'chromedriver'}\n",
    "browser = Browser('chrome', **executable_path, headless=False)"
   ]
  },
  {
   "cell_type": "code",
   "execution_count": null,
   "metadata": {},
   "outputs": [],
   "source": [
    "# Retrieve page with the requests module\n",
    "browser.visit(url)  \n",
    "html = browser.html"
   ]
  },
  {
   "cell_type": "code",
   "execution_count": null,
   "metadata": {},
   "outputs": [],
   "source": [
    "# Create BeautifulSoup object; parse with 'html.parser'\n",
    "soup = bs(html, 'html.parser')"
   ]
  },
  {
   "cell_type": "code",
   "execution_count": null,
   "metadata": {},
   "outputs": [],
   "source": [
    "# Print all ten headlines\n",
    "tds2 = soup.find_all('td')\n",
    "# A blank list to hold the headlines\n",
    "headlines2 = []\n",
    "# Loop over td elements\n",
    "for td in tds2:\n",
    "   # If td element has an anchor...\n",
    "   if (td.a):\n",
    "#         print(td.a)\n",
    "       # And the anchor has non-blank text...\n",
    "        if (td.a.text):\n",
    "           # Append the td to the list\n",
    "           headlines2.append(td)\n"
   ]
  },
  {
   "cell_type": "code",
   "execution_count": null,
   "metadata": {},
   "outputs": [],
   "source": [
    "# Print only the headlines\n",
    "neighborhoods2 = []\n",
    "for x in range(len(headlines2)):\n",
    "#   print(headlines2[x].text)\n",
    "   neighborhoods2.append(headlines2[x].text)"
   ]
  },
  {
   "cell_type": "code",
   "execution_count": null,
   "metadata": {},
   "outputs": [],
   "source": [
    "neighborhoods2\n",
    "names2 = []\n",
    "for neighbor in neighborhoods2:\n",
    "    name =neighbor.replace(\"\\n\", \"\")\n",
    "    \n",
    "    names2.append(name)\n",
    "    "
   ]
  },
  {
   "cell_type": "code",
   "execution_count": null,
   "metadata": {},
   "outputs": [],
   "source": [
    "# Print all ten headlines\n",
    "tds2 = soup.find_all('td')\n",
    "# A blank list to hold the headlines\n",
    "headlines2 = []\n",
    "# Loop over td elements\n",
    "for td in tds2:\n",
    "   # If td element has an anchor...\n",
    "   if (td.a):\n",
    "#         print(td.a)\n",
    "       # And the anchor has non-blank text...\n",
    "        if (td.a.text):\n",
    "           # Append the td to the list\n",
    "           headlines2.append(td)\n"
   ]
  },
  {
   "cell_type": "code",
   "execution_count": null,
   "metadata": {},
   "outputs": [],
   "source": [
    "rows2 = soup.find(class_=\"datagrid\").find(\"tbody\").find_all(\"tr\")\n",
    "c = 0\n",
    "d = 1\n",
    "population_density = []\n",
    "rank2 = []\n",
    "for row in rows:\n",
    "    popdensity_div = rows2[c].find_all(\"td\")[2].get_text()\n",
    "    population_density.append(popdensity_div)\n",
    "    rank2.append(d)\n",
    "    c += 1\n",
    "    d += 1"
   ]
  },
  {
   "cell_type": "code",
   "execution_count": null,
   "metadata": {},
   "outputs": [],
   "source": [
    "LA_Times_popdensity = pd.DataFrame({'Population Density Rank' : rank2,\n",
    " 'LA Neighborhood' : names2,\n",
    " 'Population Per Sq Mile':population_density\n",
    "  }, columns=['Population Density Rank','LA Neighborhood', 'Population Per Sq Mile'])\n",
    "LA_Times_popdensity"
   ]
  },
  {
   "cell_type": "code",
   "execution_count": null,
   "metadata": {},
   "outputs": [],
   "source": [
    "final_location_table1 = pd.merge(LA_Times, LA_Times_diversity, on=\"LA Neighborhood\", how=\"left\")"
   ]
  },
  {
   "cell_type": "code",
   "execution_count": null,
   "metadata": {},
   "outputs": [],
   "source": [
    "final_location_table = pd.merge(final_location_table1, LA_Times_popdensity, on=\"LA Neighborhood\", how=\"left\")"
   ]
  },
  {
   "cell_type": "code",
   "execution_count": null,
   "metadata": {},
   "outputs": [],
   "source": [
    "final_location_table = final_location_table.set_index(\"LA Neighborhood\")\n",
    "final_location_table.head()"
   ]
  },
  {
   "cell_type": "code",
   "execution_count": null,
   "metadata": {},
   "outputs": [],
   "source": [
    "final_location_table.to_csv(path_or_buf=\"LA_Locations.csv\", sep=',')"
   ]
  },
  {
   "cell_type": "code",
   "execution_count": null,
   "metadata": {},
   "outputs": [],
   "source": [
    "#CSV to JSON Conversion\n",
    "csvfile = open('LA_Locations.csv', 'r')\n",
    "reader = csv.DictReader( csvfile )\n",
    "mongo_client=MongoClient() \n",
    "db=mongo_client.BankData\n",
    "db.neighborhoodData.drop()\n",
    "header= [ \"LA Neighborhood\", \"Median Rank\", \"Median Income\", \"Diversity Rank\", \"Diversity Index\", \"Population Density Rank\", \"Population Per Sq Mile\"]\n",
    "\n",
    "for each in reader:\n",
    "    row={}\n",
    "    for field in header:\n",
    "        row[field]=each[field]\n",
    "\n",
    "    db.neighborhoodData.insert(row)"
   ]
  },
  {
   "cell_type": "code",
   "execution_count": null,
   "metadata": {},
   "outputs": [],
   "source": []
  }
 ],
 "metadata": {
  "kernelspec": {
   "display_name": "Python 3",
   "language": "python",
   "name": "python3"
  },
  "language_info": {
   "codemirror_mode": {
    "name": "ipython",
    "version": 3
   },
   "file_extension": ".py",
   "mimetype": "text/x-python",
   "name": "python",
   "nbconvert_exporter": "python",
   "pygments_lexer": "ipython3",
   "version": "3.7.0"
  }
 },
 "nbformat": 4,
 "nbformat_minor": 2
}
