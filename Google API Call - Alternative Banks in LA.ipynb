{
 "cells": [
  {
   "cell_type": "code",
   "execution_count": null,
   "metadata": {},
   "outputs": [],
   "source": [
    "import pandas as pd\n",
    "import numpy as np\n",
    "import requests\n",
    "import json\n",
    "from pprint import pprint\n",
    "import time\n",
    "from config import gkey"
   ]
  },
  {
   "cell_type": "code",
   "execution_count": null,
   "metadata": {},
   "outputs": [],
   "source": [
    "neighborhood_df = pd.read_csv(\"locations.csv\", encoding=\"ISO-8859-1\")"
   ]
  },
  {
   "cell_type": "code",
   "execution_count": null,
   "metadata": {},
   "outputs": [],
   "source": [
    "neighborhood_df['Neighborhood Lat'] = \"\"\n",
    "neighborhood_df['Neighborhood Long'] = \"\"\n",
    "\n",
    "neighborhood_df.head()"
   ]
  },
  {
   "cell_type": "code",
   "execution_count": null,
   "metadata": {},
   "outputs": [],
   "source": [
    "altbank_data={\"Neighborhood\":[],\n",
    "           \"Alt Bank Name\":[],\n",
    "           \"Alt Bank Lat\":[],\n",
    "           \"Alt Bank Long\": []\n",
    "          }"
   ]
  },
  {
   "cell_type": "code",
   "execution_count": null,
   "metadata": {},
   "outputs": [],
   "source": [
    "location_url = \"https://maps.googleapis.com/maps/api/geocode/json?\"\n",
    "\n",
    "params = {\n",
    "    \"key\": gkey,\n",
    "}"
   ]
  },
  {
   "cell_type": "code",
   "execution_count": null,
   "metadata": {},
   "outputs": [],
   "source": [
    "# use iterrows to iterate through pandas dataframe\n",
    "for index, row in neighborhood_df.iterrows():\n",
    "\n",
    "    # get restaurant type from df\n",
    "    la_location = row['Neighborhood']\n",
    "\n",
    "    # add keyword to params dict\n",
    "    params['address'] = f\"{la_location}+LA+CA\"\n",
    "\n",
    "    # assemble url and make API request\n",
    "    print(f\"Retrieving Results for Index {index}: {la_location}.\")\n",
    "    response = requests.get(location_url, params=params).json()\n",
    "     \n",
    "    try:\n",
    "        print(f\"Locating the lat,long coordinates for {la_location}\")\n",
    "        \n",
    "        neighborhood_df.loc[index, \"Neighborhood Lat\"] = (response[\"results\"][0][\"geometry\"][\"location\"][\"lat\"])\n",
    "        neighborhood_df.loc[index, \"Neighborhood Long\"] = (response[\"results\"][0][\"geometry\"][\"location\"][\"lng\"])\n",
    "        \n",
    "    except (KeyError, IndexError):\n",
    "        print(\"Missing field/result... skipping.\")\n",
    "        \n",
    "    print(\"------------\")"
   ]
  },
  {
   "cell_type": "code",
   "execution_count": null,
   "metadata": {},
   "outputs": [],
   "source": [
    "bank = 1\n",
    "radius = 5000\n",
    "params = {\n",
    "    \"radius\": radius,\n",
    "    \"key\": gkey\n",
    "}\n",
    "\n",
    "# use iterrows to iterate through pandas dataframe\n",
    "for index, row in neighborhood_df.iterrows():\n",
    "    neighbor = row[\"Neighborhood\"]\n",
    "    lat = row[\"Neighborhood Lat\"]\n",
    "    long = row[\"Neighborhood Long\"]\n",
    "    la_coords = f\"{lat},{long}\"\n",
    "\n",
    "    count = 0\n",
    "    page = 1\n",
    "    current = 1\n",
    "\n",
    "    \n",
    "    print(f\"{bank}. Locating the Alternative Banks in {neighbor}, CA\")\n",
    "    bank = bank + 1\n",
    "    \n",
    "    for i in range (0,3):\n",
    "        try:\n",
    "            print(f\"Page: {page}\")\n",
    "            if count < 1:\n",
    "        \n",
    "                params['location'] = la_coords\n",
    "                url_pass1 = f\"https://maps.googleapis.com/maps/api/place/nearbysearch/json?keyword=check%20cashing\"\n",
    "    \n",
    "                response1 = requests.get(url_pass1, params)\n",
    "                bank_data1 = response1.json()\n",
    "            \n",
    "                for x in range(len(bank_data1[\"results\"])):\n",
    "                    altbank_data[\"Neighborhood\"].append(neighbor)\n",
    "                    altbank_data[\"Alt Bank Name\"].append(bank_data1[\"results\"][x][\"name\"])\n",
    "                    altbank_data[\"Alt Bank Lat\"].append(bank_data1[\"results\"][x][\"geometry\"][\"location\"][\"lat\"])\n",
    "                    altbank_data[\"Alt Bank Long\"].append(bank_data1[\"results\"][x][\"geometry\"][\"location\"][\"lng\"])\n",
    "    \n",
    "                time.sleep(2)\n",
    "    \n",
    "                count = count + 1\n",
    "                current = current + 1\n",
    "                page = page + 1\n",
    "               \n",
    "                try:\n",
    "                    pagetoken = bank_data1[\"next_page_token\"]\n",
    "                except (KeyError, IndexError):\n",
    "                    print(f\"There are no more alternative banks in {neighbor}, CA.\")\n",
    "                    break\n",
    "    \n",
    "            else:\n",
    "            \n",
    "                params['location'] = la_coords\n",
    "    \n",
    "                url_pass2 = f\"https://maps.googleapis.com/maps/api/place/nearbysearch/json?keyword=check%20cashing&pagetoken={pagetoken}\"\n",
    "    \n",
    "                response2 = requests.get(url_pass2, params)\n",
    "                bank_data2 = response2.json()\n",
    "            \n",
    "                for x in range(len(bank_data1[\"results\"])):\n",
    "                    altbank_data[\"Neighborhood\"].append(neighbor)\n",
    "                    altbank_data[\"Alt Bank Name\"].append(bank_data2[\"results\"][x][\"name\"])\n",
    "                    altbank_data[\"Alt Bank Lat\"].append(bank_data2[\"results\"][x][\"geometry\"][\"location\"][\"lat\"])\n",
    "                    altbank_data[\"Alt Bank Long\"].append(bank_data2[\"results\"][x][\"geometry\"][\"location\"][\"lng\"])\n",
    "    \n",
    "                time.sleep(2)\n",
    "    \n",
    "                count = count + 1\n",
    "                page = page + 1\n",
    "                current = current + 1\n",
    "                \n",
    "                try:\n",
    "                    pagetoken = bank_data2[\"next_page_token\"]\n",
    "                except (KeyError, IndexError):\n",
    "                    print(f\"There are no more alternative banks in {neighbor}, CA.\")\n",
    "                    break\n",
    "        except (KeyError, IndexError):\n",
    "            print(f\"There are no more alternative banks in {neighbor}, CA.\")\n",
    "            break\n",
    "        \n",
    "    print(\"------------\")"
   ]
  },
  {
   "cell_type": "code",
   "execution_count": null,
   "metadata": {},
   "outputs": [],
   "source": [
    "altbank_df=pd.DataFrame.from_dict(altbank_data, orient='index')\n",
    "altbank_df = altbank_df.transpose()\n",
    "\n",
    "altbank_df.head()"
   ]
  },
  {
   "cell_type": "code",
   "execution_count": null,
   "metadata": {},
   "outputs": [],
   "source": [
    "altbank_df.to_csv(path_or_buf=\"LA_Alt_Banks.csv\", sep=',')"
   ]
  },
  {
   "cell_type": "code",
   "execution_count": null,
   "metadata": {},
   "outputs": [],
   "source": []
  }
 ],
 "metadata": {
  "kernelspec": {
   "display_name": "Python [default]",
   "language": "python",
   "name": "python3"
  },
  "language_info": {
   "codemirror_mode": {
    "name": "ipython",
    "version": 3
   },
   "file_extension": ".py",
   "mimetype": "text/x-python",
   "name": "python",
   "nbconvert_exporter": "python",
   "pygments_lexer": "ipython3",
   "version": "3.6.5"
  }
 },
 "nbformat": 4,
 "nbformat_minor": 2
}
